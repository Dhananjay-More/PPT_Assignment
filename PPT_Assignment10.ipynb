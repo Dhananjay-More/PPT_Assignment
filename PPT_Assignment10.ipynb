{
 "cells": [
  {
   "cell_type": "code",
   "execution_count": 28,
   "id": "9d5655ff",
   "metadata": {},
   "outputs": [
    {
     "name": "stdout",
     "output_type": "stream",
     "text": [
      "True\n"
     ]
    }
   ],
   "source": [
    "#Question 1\n",
    "def isPowerOfThree(n):\n",
    "    if n<=0:\n",
    "        return False\n",
    "    if n%3!=0 and n!=1:\n",
    "        return False\n",
    "    if n==3 or n==1:\n",
    "        return True    \n",
    "    return isPowerOfThree(n//3)\n",
    "n = 27\n",
    "print(isPowerOfThree(n))"
   ]
  },
  {
   "cell_type": "code",
   "execution_count": 29,
   "id": "a06547d9",
   "metadata": {},
   "outputs": [
    {
     "name": "stdout",
     "output_type": "stream",
     "text": [
      "6\n"
     ]
    }
   ],
   "source": [
    "#Question 2\n",
    "def lastRemainingEle(n):\n",
    "    if n == 1:\n",
    "        return 1\n",
    "    return 2 * (n // 2 - lastRemainingEle(n // 2) + 1)\n",
    "n=9\n",
    "print(lastRemainingEle(n))"
   ]
  },
  {
   "cell_type": "code",
   "execution_count": 30,
   "id": "bd54bdb0",
   "metadata": {},
   "outputs": [
    {
     "name": "stdout",
     "output_type": "stream",
     "text": [
      "['abc', 'ab', 'ac', 'a', 'bc', 'b', 'c', '']\n"
     ]
    }
   ],
   "source": [
    "#Question 3\n",
    "def subsets(set1):\n",
    "    ans = []\n",
    "    ans1=[]\n",
    "    def subset(p, up):\n",
    "        if len(up) == 0:\n",
    "            ans.append(p)\n",
    "            return \n",
    "        ch = up[0]\n",
    "        subset(p+[ch], up[1:])\n",
    "        subset(p, up[1:])\n",
    "    subset([], set1)\n",
    "    for i in ans:\n",
    "        nstr=''\n",
    "        for j in range(len(i)):\n",
    "            nstr+=i[j]\n",
    "        ans1.append(nstr)\n",
    "    return ans1\n",
    "set1 = \"abc\"\n",
    "print(subsets(set1))"
   ]
  },
  {
   "cell_type": "code",
   "execution_count": 31,
   "id": "d7f75d30",
   "metadata": {},
   "outputs": [
    {
     "name": "stdout",
     "output_type": "stream",
     "text": [
      "4\n"
     ]
    }
   ],
   "source": [
    "#Question 4\n",
    "def lengthOfStr(str1):\n",
    "    if str1 == \"\":\n",
    "        return 0\n",
    "    return 1 + lengthOfStr(str1[1:])\n",
    "str1 = \"abcd\"\n",
    "print(lengthOfStr(str1))"
   ]
  },
  {
   "cell_type": "code",
   "execution_count": 32,
   "id": "f8baa784",
   "metadata": {},
   "outputs": [
    {
     "name": "stdout",
     "output_type": "stream",
     "text": [
      "7\n"
     ]
    }
   ],
   "source": [
    "#Question 5\n",
    "def countSubStr(s):\n",
    "    result = 0;\n",
    "    n = len(s);\n",
    "    for i in range(n):\n",
    "        for j in range(i, n):\n",
    "            if (s[i] == s[j]):\n",
    "                result = result + 1\n",
    "    return result\n",
    "s = \"abcab\";\n",
    "print(countSubStr(s))"
   ]
  },
  {
   "cell_type": "code",
   "execution_count": 33,
   "id": "7bd68c50",
   "metadata": {},
   "outputs": [
    {
     "name": "stdout",
     "output_type": "stream",
     "text": [
      "Move disk 1 from rod1 to rod 3\n",
      "Move disk 2 from rod1 to rod 2\n",
      "Move disk 1 from rod3 to rod 2\n",
      "Move disk 3 from rod1 to rod 3\n",
      "Move disk 1 from rod2 to rod 1\n",
      "Move disk 2 from rod2 to rod 3\n",
      "Move disk 1 from rod1 to rod 3\n",
      "14\n"
     ]
    }
   ],
   "source": [
    "#Question 6\n",
    "def tower_of_Hanoi(disks, source=1, auxiliary=2, target=3):\n",
    "    global cnt\n",
    "    if disks > 0:\n",
    "        cnt+=1\n",
    "        tower_of_Hanoi(disks - 1, source, target, auxiliary)\n",
    "        print(f'Move disk {disks} from rod{source} to rod {target}')\n",
    "        tower_of_Hanoi(disks - 1, auxiliary, source, target)\n",
    "    return cnt\n",
    "n=3\n",
    "print(tower_of_Hanoi(n))"
   ]
  },
  {
   "cell_type": "code",
   "execution_count": 34,
   "id": "b450e2a2",
   "metadata": {},
   "outputs": [
    {
     "name": "stdout",
     "output_type": "stream",
     "text": [
      "cd\n",
      "dc\n"
     ]
    }
   ],
   "source": [
    "#Question 7\n",
    "def toString(List):\n",
    "    return ''.join(List)\n",
    "def permuteOfString(a, l, r):\n",
    "    if l == r:\n",
    "        print (toString(a))\n",
    "    else:\n",
    "        for i in range(l, r + 1):\n",
    "            a[l], a[i] = a[i], a[l]\n",
    "            permuteOfString(a, l + 1, r)\n",
    "            a[l], a[i] = a[i], a[l]\n",
    "str1 = \"cd\"\n",
    "n = len(str1)\n",
    "a = list(str1)\n",
    "permuteOfString(a, 0, n-1)"
   ]
  },
  {
   "cell_type": "code",
   "execution_count": 35,
   "id": "db59e9d8",
   "metadata": {},
   "outputs": [
    {
     "name": "stdout",
     "output_type": "stream",
     "text": [
      "3\n"
     ]
    }
   ],
   "source": [
    "#Question 8\n",
    "def isConsonant(ch):\n",
    "    ch = ch.upper()\n",
    "    return not (ch == 'A' or ch == 'E' or \n",
    "                ch == 'I' or ch == 'O' or \n",
    "                ch == 'U') and ord(ch) >= 65 and ord(ch) <= 90\n",
    "def totalConsonants(string, n):\n",
    "      \n",
    "    if n == 1:\n",
    "        return isConsonant(string[0])\n",
    "  \n",
    "    return totalConsonants(string, n - 1) + isConsonant(string[n-1])\n",
    "string = \"abc de\"\n",
    "print(totalConsonants(string, len(string)))"
   ]
  },
  {
   "cell_type": "code",
   "execution_count": null,
   "id": "d9b60357",
   "metadata": {},
   "outputs": [],
   "source": []
  }
 ],
 "metadata": {
  "kernelspec": {
   "display_name": "Python 3 (ipykernel)",
   "language": "python",
   "name": "python3"
  },
  "language_info": {
   "codemirror_mode": {
    "name": "ipython",
    "version": 3
   },
   "file_extension": ".py",
   "mimetype": "text/x-python",
   "name": "python",
   "nbconvert_exporter": "python",
   "pygments_lexer": "ipython3",
   "version": "3.9.12"
  }
 },
 "nbformat": 4,
 "nbformat_minor": 5
}
