{
 "cells": [
  {
   "cell_type": "code",
   "execution_count": 1,
   "id": "d2c96afc",
   "metadata": {},
   "outputs": [
    {
     "name": "stdout",
     "output_type": "stream",
     "text": [
      "[0, 4, 1, 3, 2]\n"
     ]
    }
   ],
   "source": [
    "#Question 1\n",
    "def stringPer(s):\n",
    "    ans = []\n",
    "    low = 0\n",
    "    high = len(s)\n",
    "    for c in s:\n",
    "        if c == 'I':\n",
    "            ans.append(low)\n",
    "            low+=1\n",
    "        else:\n",
    "            ans.append(high)\n",
    "            high-=1\n",
    "    return ans + [high]\n",
    "s = \"IDID\"\n",
    "print(stringPer(s))"
   ]
  },
  {
   "cell_type": "code",
   "execution_count": 2,
   "id": "07d2cda6",
   "metadata": {},
   "outputs": [
    {
     "name": "stdout",
     "output_type": "stream",
     "text": [
      "True\n"
     ]
    }
   ],
   "source": [
    "#Question 2\n",
    "def searchMatrix(mat,target):\n",
    "    R, C = len(mat), len(mat[0])\n",
    "    l, r = 0, R*C-1\n",
    "    while l <= r:\n",
    "        mid = l + (r-l)//2\n",
    "        row, col = mid // C, mid % C\n",
    "        if mat[row][col] < target:\n",
    "            l = mid + 1\n",
    "        elif mat[row][col] > target:\n",
    "            r = mid - 1\n",
    "        else:\n",
    "            return True\n",
    "    return False\n",
    "matrix = [[1,3,5,7],[10,11,16,20],[23,30,34,60]]\n",
    "target = 3\n",
    "print(searchMatrix(matrix,target))"
   ]
  },
  {
   "cell_type": "code",
   "execution_count": 3,
   "id": "301895f4",
   "metadata": {},
   "outputs": [
    {
     "name": "stdout",
     "output_type": "stream",
     "text": [
      "False\n"
     ]
    }
   ],
   "source": [
    "#Question 3\n",
    "def validMountainArray(arr):\n",
    "    if len(arr) < 3:\n",
    "        return False;\n",
    "    l = 0;\n",
    "    r = len(arr) - 1\n",
    "    while l + 1 < len(arr) - 1 and arr[l] < arr[l + 1]: \n",
    "        l += 1\n",
    "    while r - 1 > 0 and arr[r] < arr[r - 1]: \n",
    "        r -= 1\n",
    "    return l == r\n",
    "arr = [2,1]\n",
    "print(validMountainArray(arr))"
   ]
  },
  {
   "cell_type": "code",
   "execution_count": 4,
   "id": "3dc5acf1",
   "metadata": {},
   "outputs": [
    {
     "name": "stdout",
     "output_type": "stream",
     "text": [
      "2\n"
     ]
    }
   ],
   "source": [
    "#Question 4\n",
    "def findMaxSubArray(nums):\n",
    "    count = {0: -1}\n",
    "    ml = cd = 0\n",
    "    for i, num in enumerate(nums):\n",
    "        if num == 1:\n",
    "            cd += 1\n",
    "        else:\n",
    "            cd=-1\n",
    "        if cd in count:\n",
    "            ml = max(ml, i - count[cd])\n",
    "        else:\n",
    "            count[cd] = i\n",
    "    return ml\n",
    "nums = [0,1]\n",
    "print(findMaxSubArray(nums))"
   ]
  },
  {
   "cell_type": "code",
   "execution_count": 5,
   "id": "bd450c83",
   "metadata": {},
   "outputs": [
    {
     "name": "stdout",
     "output_type": "stream",
     "text": [
      "40\n"
     ]
    }
   ],
   "source": [
    "#Question 5\n",
    "import numpy as np\n",
    "def minProduct(nums1,nums2):\n",
    "    nums1.sort()\n",
    "    nums2.sort(reverse=True)\n",
    "    newmat = np.matmul(nums1,nums2)\n",
    "    return newmat.sum()\n",
    "nums1 = [5,3,4,2]\n",
    "nums2 = [4,2,2,5]\n",
    "print(minProduct(nums1,nums2))"
   ]
  },
  {
   "cell_type": "code",
   "execution_count": 6,
   "id": "469d6d6e",
   "metadata": {},
   "outputs": [
    {
     "name": "stdout",
     "output_type": "stream",
     "text": [
      "[1, 3, 4]\n"
     ]
    }
   ],
   "source": [
    "#Question 6\n",
    "from collections import Counter\n",
    "def findOriginalArray(nums):\n",
    "    ans = [] \n",
    "    vacans = [] \n",
    "    if len(nums)%2 != 0 :\n",
    "        return ans\n",
    "    nums.sort()\n",
    "    temp = Counter(nums)\n",
    "    for i in nums:    \n",
    "        if temp[i] == 0:  \n",
    "            continue\n",
    "        else:\n",
    "            if temp.get(2*i,0) >= 1:\n",
    "                ans.append(i)\n",
    "                temp[2*i] -= 1\n",
    "                temp[i] -= 1\n",
    "            else:        \n",
    "                return vacans\n",
    "    return ans\n",
    "changed = [1,3,4,2,6,8]\n",
    "print(findOriginalArray(changed))"
   ]
  },
  {
   "cell_type": "code",
   "execution_count": 7,
   "id": "91681b59",
   "metadata": {},
   "outputs": [
    {
     "name": "stdout",
     "output_type": "stream",
     "text": [
      "Enter Number n:3\n",
      "[[1. 2. 3.]\n",
      " [8. 9. 4.]\n",
      " [7. 6. 5.]]\n"
     ]
    }
   ],
   "source": [
    "#Question 7\n",
    "import numpy as np\n",
    "def spiralMatrix(n):\n",
    "    result = np.zeros((n,n))\n",
    "    top, bottom, left, right = 0, n - 1, 0, n - 1\n",
    "    cnt=1\n",
    "    while top <= bottom and left <= right:\n",
    "        for i in range(left, right + 1):\n",
    "            result[top][i]=cnt\n",
    "            cnt+=1\n",
    "        top += 1\n",
    "        dn=top\n",
    "        for i in range(top, bottom + 1):\n",
    "            result[i][bottom]=cnt\n",
    "            cnt+=1\n",
    "        right -= 1\n",
    "        if top <= bottom:\n",
    "            for i in range(right, left - 1, -1):\n",
    "                result[bottom][i]=cnt\n",
    "                cnt+=1\n",
    "            bottom -= 1\n",
    "        if left <= right:\n",
    "            for i in range(bottom, top - 1, -1):\n",
    "                result[i][left]=cnt\n",
    "                cnt+=1\n",
    "            left += 1\n",
    "    return result\n",
    "n=int(input(\"Enter Number n:\"))\n",
    "print(spiralMatrix(n))"
   ]
  },
  {
   "cell_type": "code",
   "execution_count": 8,
   "id": "cf1952e7",
   "metadata": {},
   "outputs": [
    {
     "name": "stdout",
     "output_type": "stream",
     "text": [
      "[[ 7  0  0]\n",
      " [-7  0  3]]\n"
     ]
    }
   ],
   "source": [
    "#Question 8\n",
    "import numpy as np\n",
    "def matrixMultiplication(mat1,mat2):\n",
    "    mat1=np.array(mat1)\n",
    "    mat2=np.array(mat2)\n",
    "    mat3= np.matmul(mat1,mat2)\n",
    "    return mat3\n",
    "mat1 = [[1,0,0],[-1,0,3]]\n",
    "mat2 = [[7,0,0],[0,0,0],[0,0,1]]\n",
    "print(matrixMultiplication(mat1,mat2))"
   ]
  }
 ],
 "metadata": {
  "kernelspec": {
   "display_name": "Python 3 (ipykernel)",
   "language": "python",
   "name": "python3"
  },
  "language_info": {
   "codemirror_mode": {
    "name": "ipython",
    "version": 3
   },
   "file_extension": ".py",
   "mimetype": "text/x-python",
   "name": "python",
   "nbconvert_exporter": "python",
   "pygments_lexer": "ipython3",
   "version": "3.9.12"
  }
 },
 "nbformat": 4,
 "nbformat_minor": 5
}
