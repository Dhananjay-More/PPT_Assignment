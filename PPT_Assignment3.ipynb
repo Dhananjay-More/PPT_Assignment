{
 "cells": [
  {
   "cell_type": "code",
   "execution_count": 28,
   "id": "a757204a",
   "metadata": {},
   "outputs": [
    {
     "data": {
      "text/plain": [
       "2"
      ]
     },
     "execution_count": 28,
     "metadata": {},
     "output_type": "execute_result"
    }
   ],
   "source": [
    "#Question 1\n",
    "def threeSumClosest(nums, target):\n",
    "    nums.sort()\n",
    "    n = len(nums)\n",
    "    closest = nums[0] + nums[1] + nums[n - 1]\n",
    "    for i in range(0, n - 2):\n",
    "        j = i + 1\n",
    "        k = n - 1\n",
    "        while j < k:\n",
    "            current_sum = nums[i] + nums[j] + nums[k]\n",
    "            if current_sum <= target:\n",
    "                j += 1\n",
    "            else:\n",
    "                k -= 1\n",
    "            if abs(closest - target) > abs(current_sum - target):\n",
    "                closest = current_sum\n",
    "    return closest\n",
    "nums = [-1,2,1,-4]\n",
    "target = 1\n",
    "threeSumClosest(nums, target)"
   ]
  },
  {
   "cell_type": "code",
   "execution_count": 27,
   "id": "8a90e8bf",
   "metadata": {},
   "outputs": [
    {
     "data": {
      "text/plain": [
       "[[-2, -1, 1, 2], [-2, 0, 0, 2], [-1, 0, 0, 1]]"
      ]
     },
     "execution_count": 27,
     "metadata": {},
     "output_type": "execute_result"
    }
   ],
   "source": [
    "#Question 2\n",
    "def fourSum(nums, target):\n",
    "    quadruplets = []\n",
    "    n = len(nums)\n",
    "    nums.sort()\n",
    "    for i in range(n - 3):\n",
    "        if i > 0 and nums[i] == nums[i - 1]:\n",
    "            continue\n",
    "        for j in range(i + 1, n - 2):\n",
    "            if j > i + 1 and nums[j] == nums[j - 1]:\n",
    "                continue\n",
    "            left = j + 1          \n",
    "            right = n - 1\n",
    "            while left < right:\n",
    "                sum = nums[i] + nums[j] + nums[left] + nums[right]\n",
    "                if sum < target:\n",
    "                    left += 1\n",
    "                elif sum > target:\n",
    "                    right -= 1\n",
    "                else:\n",
    "                    quadruplets.append([nums[i], nums[j], nums[left], nums[right]])\n",
    "                    while left < right and nums[left] == nums[left + 1]:\n",
    "                        left += 1\n",
    "                    while left < right and nums[right] == nums[right - 1]:\n",
    "                        right -= 1\n",
    "                    left += 1\n",
    "                    right -= 1\n",
    "    return quadruplets\n",
    "nums = [1,0,-1,0,-2,2]\n",
    "target = 0\n",
    "fourSum(nums, target)"
   ]
  },
  {
   "cell_type": "code",
   "execution_count": 19,
   "id": "12f7eb6b",
   "metadata": {},
   "outputs": [
    {
     "name": "stdout",
     "output_type": "stream",
     "text": [
      "[1, 3, 2]\n"
     ]
    }
   ],
   "source": [
    "#Question 3\n",
    "def nextPermutation(nums):\n",
    "        n = len(nums)\n",
    "        k=n - 2\n",
    "        l=n - 1\n",
    "        while k >= 0 and nums[k] >= nums[k + 1]:\n",
    "            k -= 1\n",
    "        if k < 0:\n",
    "            nums.reverse()\n",
    "        else:\n",
    "            while l > k and nums[l] <= nums[k]:\n",
    "                l -= 1\n",
    "            nums[k], nums[l] = nums[l], nums[k]\n",
    "            nums[k + 1:n] = reversed(nums[k + 1:n])\n",
    "        return nums\n",
    "nums = [1,2,3]\n",
    "print(nextPermutation(nums))"
   ]
  },
  {
   "cell_type": "code",
   "execution_count": 16,
   "id": "aa083de9",
   "metadata": {},
   "outputs": [
    {
     "name": "stdout",
     "output_type": "stream",
     "text": [
      "2\n"
     ]
    }
   ],
   "source": [
    "#Question 4\n",
    "def search(nums,target):\n",
    "    cnt=0\n",
    "    low=0\n",
    "    flag=True\n",
    "    high=len(nums)\n",
    "    mid=int((low+high)/2)\n",
    "    while flag==True and cnt <= (len(nums)/2):\n",
    "        if nums[mid] == target:\n",
    "            flag=False\n",
    "            return mid\n",
    "        else:\n",
    "            if nums[mid] < target:\n",
    "                mid=int((mid+high)/2)\n",
    "                cnt+=1\n",
    "            else:\n",
    "                mid=int((mid+low)/2)\n",
    "                cnt+=1\n",
    "    if flag==True:\n",
    "        return -1\n",
    "nums = [1,3,5,6]\n",
    "target=5\n",
    "ans=search(nums,target)\n",
    "print(ans)"
   ]
  },
  {
   "cell_type": "code",
   "execution_count": 15,
   "id": "1a889914",
   "metadata": {},
   "outputs": [
    {
     "name": "stdout",
     "output_type": "stream",
     "text": [
      "[1, 2, 4]\n"
     ]
    }
   ],
   "source": [
    "#Question 5\n",
    "digits = [1,2,3]\n",
    "new_digits=list()\n",
    "num=0\n",
    "ln=len(digits)\n",
    "i=0\n",
    "while ln > 0:\n",
    "    num=num + digits[i]*(10**(ln-1))\n",
    "    i+=1\n",
    "    ln-=1\n",
    "num+=1\n",
    "ln=len(str(num))\n",
    "while ln > 0:\n",
    "    temp= num%10\n",
    "    new_digits.append(temp)\n",
    "    num=int(num/10)\n",
    "    i+=1\n",
    "    ln-=1\n",
    "new_digits.reverse()\n",
    "print(new_digits)"
   ]
  },
  {
   "cell_type": "code",
   "execution_count": 14,
   "id": "c2934f12",
   "metadata": {},
   "outputs": [
    {
     "data": {
      "text/plain": [
       "1"
      ]
     },
     "execution_count": 14,
     "metadata": {},
     "output_type": "execute_result"
    }
   ],
   "source": [
    "#Question 6\n",
    "def findSingle(nums):\n",
    "    for i in nums:\n",
    "        if nums.count(i)<2:\n",
    "            return i\n",
    "nums = [2,2,1]\n",
    "findSingle(nums)"
   ]
  },
  {
   "cell_type": "code",
   "execution_count": 11,
   "id": "44e0aa34",
   "metadata": {},
   "outputs": [
    {
     "data": {
      "text/plain": [
       "[[2, 2], [4, 49], [51, 74], [76, 99]]"
      ]
     },
     "execution_count": 11,
     "metadata": {},
     "output_type": "execute_result"
    }
   ],
   "source": [
    "#Question 7\n",
    "def findMissingRanges(nums,lower,upper):\n",
    "    n = len(nums)\n",
    "    if n == 0:\n",
    "        return [f(lower, upper)]\n",
    "    ans = []\n",
    "    if nums[0] > lower:\n",
    "        ans.append([lower, nums[0] - 1])\n",
    "    for i in range(len(nums)-1):\n",
    "        if nums[i+1] - nums[i] > 1:\n",
    "            ans.append([nums[i]+1,nums[i+1]-1])\n",
    "    if nums[-1] < upper:\n",
    "        ans.append([nums[-1] + 1, upper])\n",
    "    return ans\n",
    "nums = [0,1,3,50,75]\n",
    "findMissingRanges(nums,0,99)"
   ]
  },
  {
   "cell_type": "code",
   "execution_count": 12,
   "id": "15846e79",
   "metadata": {},
   "outputs": [
    {
     "data": {
      "text/plain": [
       "False"
      ]
     },
     "execution_count": 12,
     "metadata": {},
     "output_type": "execute_result"
    }
   ],
   "source": [
    "#Question 8\n",
    "def canAttendMeetings(intervals):\n",
    "        \n",
    "    intervals.sort(key=lambda a: a[0])\n",
    "    for i in range(len(intervals)-1):\n",
    "        if intervals[i][1] > intervals[i+1][0]:\n",
    "            return False\n",
    "    return True\n",
    "intervals = [[0,30],[5,10],[15,20]]\n",
    "canAttendMeetings(intervals)"
   ]
  }
 ],
 "metadata": {
  "kernelspec": {
   "display_name": "Python 3 (ipykernel)",
   "language": "python",
   "name": "python3"
  },
  "language_info": {
   "codemirror_mode": {
    "name": "ipython",
    "version": 3
   },
   "file_extension": ".py",
   "mimetype": "text/x-python",
   "name": "python",
   "nbconvert_exporter": "python",
   "pygments_lexer": "ipython3",
   "version": "3.9.12"
  }
 },
 "nbformat": 4,
 "nbformat_minor": 5
}
