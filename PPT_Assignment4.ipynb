{
 "cells": [
  {
   "cell_type": "code",
   "execution_count": 15,
   "id": "69fdb197",
   "metadata": {},
   "outputs": [
    {
     "name": "stdout",
     "output_type": "stream",
     "text": [
      "[1, 5]\n"
     ]
    }
   ],
   "source": [
    "#Question 1\n",
    "def allArrInter(a,b,c):\n",
    "    d=[]\n",
    "    for i in a:\n",
    "        if i in b and i in c:\n",
    "            d.append(i)\n",
    "    return d\n",
    "arr1 = [1,2,3,4,5]\n",
    "arr2 = [1,2,5,7,9]\n",
    "arr3 = [1,3,4,5,8]\n",
    "print(allArrInter(arr1,arr2,arr3))"
   ]
  },
  {
   "cell_type": "code",
   "execution_count": 14,
   "id": "20aefc69",
   "metadata": {},
   "outputs": [
    {
     "name": "stdout",
     "output_type": "stream",
     "text": [
      "[[1, 3], [4, 6]]\n"
     ]
    }
   ],
   "source": [
    "#Question 2\n",
    "def findDifference(nums1, nums2):\n",
    "    set1=set(nums1)\n",
    "    set2=set(nums2)\n",
    "    res=[[],[]]\n",
    "    for i in set1:\n",
    "        if i not in set2:\n",
    "            res[0].append(i)\n",
    "    for i in set2:\n",
    "        if i not in set1:\n",
    "            res[1].append(i)\n",
    "    return res\n",
    "nums1 = [1,2,3]\n",
    "nums2 = [2,4,6]\n",
    "print(findDifference(nums1, nums2))"
   ]
  },
  {
   "cell_type": "code",
   "execution_count": 22,
   "id": "7e0d63a4",
   "metadata": {},
   "outputs": [
    {
     "name": "stdout",
     "output_type": "stream",
     "text": [
      "Transpose matrix is: [[1, 4, 7], [2, 5, 8], [3, 6, 9]]\n"
     ]
    }
   ],
   "source": [
    "#Question 3\n",
    "N=3\n",
    "def transpose(A,B):\n",
    "    for i in range(N):\n",
    "        for j in range(N):\n",
    "            B[i][j] = A[j][i]\n",
    "A = [[1,2,3],[4,5,6],[7,8,9]]\n",
    "transpose(A, B)\n",
    "print(\"Transpose matrix is:\",B)"
   ]
  },
  {
   "cell_type": "code",
   "execution_count": 7,
   "id": "c9f2376c",
   "metadata": {},
   "outputs": [
    {
     "name": "stdout",
     "output_type": "stream",
     "text": [
      "4\n"
     ]
    }
   ],
   "source": [
    "#Question 4\n",
    "def arrayPairSum(nums):\n",
    "    nums.sort()\n",
    "    result = 0\n",
    "    numsLen = len(nums)\n",
    "    for i in range(0, numsLen - 1, 2):\n",
    "        result += min(nums[i],nums[i+1])\n",
    "    return result\n",
    "nums = [1,4,3,2]\n",
    "print(arrayPairSum(nums))"
   ]
  },
  {
   "cell_type": "code",
   "execution_count": 19,
   "id": "b1f6107c",
   "metadata": {},
   "outputs": [
    {
     "name": "stdout",
     "output_type": "stream",
     "text": [
      "Enter Value of N:5\n",
      "2\n"
     ]
    }
   ],
   "source": [
    "#Question 5\n",
    "def arrangeCoins(n):\n",
    "    left, right = 1, n\n",
    "    while left <= right:\n",
    "        mid = left + (right - left)\n",
    "        coins = (mid * (mid + 1))\n",
    "        if coins <= n:\n",
    "            left = mid + 1\n",
    "        else:\n",
    "            right = mid - 1\n",
    "    return right\n",
    "n = int(input(\"Enter Value of N:\"))\n",
    "print(arrangeCoins(n))"
   ]
  },
  {
   "cell_type": "code",
   "execution_count": 5,
   "id": "06d31734",
   "metadata": {},
   "outputs": [
    {
     "name": "stdout",
     "output_type": "stream",
     "text": [
      "[  0   1   9  16 100]\n"
     ]
    }
   ],
   "source": [
    "#Question 6\n",
    "import numpy as np\n",
    "def arrsqr(a):\n",
    "    a=np.array(a)\n",
    "    return np.sort(a*a)\n",
    "nums = [-4,-1,0,3,10]\n",
    "print(arrsqr(nums))"
   ]
  },
  {
   "cell_type": "code",
   "execution_count": 21,
   "id": "7354588b",
   "metadata": {},
   "outputs": [
    {
     "name": "stdout",
     "output_type": "stream",
     "text": [
      "4\n"
     ]
    }
   ],
   "source": [
    "#Question 7\n",
    "def maxCount(m, n, ops):\n",
    "    l= len(ops)\n",
    "    if l == 0:\n",
    "        return m*n\n",
    "    res = [ops[0][0] , ops[0][1]]\n",
    "    for i in range(1,l):\n",
    "        res[0] = min(res[0] , ops[i][0])\n",
    "        res[1] = min(res[1] , ops[i][1])\n",
    "    return res[0]*res[1]\n",
    "m = 3\n",
    "n = 3\n",
    "ops = [[2,2],[3,3]]\n",
    "print(maxCount(m, n, ops))"
   ]
  },
  {
   "cell_type": "code",
   "execution_count": 4,
   "id": "64e83131",
   "metadata": {},
   "outputs": [
    {
     "name": "stdout",
     "output_type": "stream",
     "text": [
      "[2, 3, 5, 4, 1, 7]\n"
     ]
    }
   ],
   "source": [
    "#Question 8\n",
    "def arrop(a,n):\n",
    "    nl=[]\n",
    "    i=0\n",
    "    j=n\n",
    "    while j <= len(a)-1:\n",
    "        nl.append(a[i])\n",
    "        nl.append(a[j])\n",
    "        i+=1\n",
    "        j+=1\n",
    "    return nl\n",
    "nums = [2,5,1,3,4,7]\n",
    "n = 3\n",
    "print(arrop(nums,n))"
   ]
  }
 ],
 "metadata": {
  "kernelspec": {
   "display_name": "Python 3 (ipykernel)",
   "language": "python",
   "name": "python3"
  },
  "language_info": {
   "codemirror_mode": {
    "name": "ipython",
    "version": 3
   },
   "file_extension": ".py",
   "mimetype": "text/x-python",
   "name": "python",
   "nbconvert_exporter": "python",
   "pygments_lexer": "ipython3",
   "version": "3.9.12"
  }
 },
 "nbformat": 4,
 "nbformat_minor": 5
}
