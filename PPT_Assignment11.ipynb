{
 "cells": [
  {
   "cell_type": "code",
   "execution_count": 26,
   "id": "7c1fe2c5",
   "metadata": {},
   "outputs": [
    {
     "name": "stdout",
     "output_type": "stream",
     "text": [
      "Enter Number:5\n",
      "2\n"
     ]
    }
   ],
   "source": [
    "#Question 1\n",
    "def nearSqrt(x):\n",
    "    if x == 0:\n",
    "        return 0\n",
    "    f= 1\n",
    "    l= x\n",
    "    while f <= l:\n",
    "        mid = f + (l - f) // 2\n",
    "        if mid == x // mid:\n",
    "            return mid\n",
    "        elif mid > x // mid:\n",
    "            l = mid - 1\n",
    "        else:\n",
    "                f = mid + 1\n",
    "    return l\n",
    "x=int(input(\"Enter Number:\"))\n",
    "print(nearSqrt(x))"
   ]
  },
  {
   "cell_type": "code",
   "execution_count": 27,
   "id": "73d93463",
   "metadata": {},
   "outputs": [
    {
     "name": "stdout",
     "output_type": "stream",
     "text": [
      "5\n"
     ]
    }
   ],
   "source": [
    "#Question 2\n",
    "def findPeakElement(nums):\n",
    "    n = len(nums)\n",
    "    f = 0\n",
    "    l= n - 1\n",
    "    while f < l:\n",
    "        mid = f + (l - f) // 2\n",
    "        if nums[mid]>nums[mid+1] and nums[mid]>nums[mid-1]:\n",
    "            return mid\n",
    "        else:\n",
    "            if nums[mid]<nums[mid+1]:\n",
    "                f=mid+1\n",
    "            else:\n",
    "                l=mid-1\n",
    "    return l\n",
    "nums = [1,2,1,3,5,6,4]\n",
    "print(findPeakElement(nums))"
   ]
  },
  {
   "cell_type": "code",
   "execution_count": 28,
   "id": "4b0bcba6",
   "metadata": {},
   "outputs": [
    {
     "name": "stdout",
     "output_type": "stream",
     "text": [
      "8\n"
     ]
    }
   ],
   "source": [
    "#Question 3\n",
    "def missingNumber(nums):\n",
    "    n = len(nums)\n",
    "    nums.sort()\n",
    "    for i in range(0, n+1):\n",
    "        l = 0\n",
    "        r = n\n",
    "        ifFound = False\n",
    "        while l < r:\n",
    "            mid = l + (r - l ) // 2\n",
    "            if nums[mid] == i:\n",
    "                ifFound = True\n",
    "                break\n",
    "            elif i < nums[mid]:\n",
    "                r = mid\n",
    "            else:\n",
    "                l = mid + 1\n",
    "        if ifFound == False:\n",
    "            return i\n",
    "    return n+1\n",
    "nums = [9,6,4,2,3,5,7,0,1]\n",
    "print(missingNumber(nums))"
   ]
  },
  {
   "cell_type": "code",
   "execution_count": 29,
   "id": "86a343d0",
   "metadata": {},
   "outputs": [
    {
     "name": "stdout",
     "output_type": "stream",
     "text": [
      "2\n"
     ]
    }
   ],
   "source": [
    "#Question 4\n",
    "def findDuplicate(nums):\n",
    "    nums.sort()\n",
    "    for i in range(len(nums)):\n",
    "        l = i + 1\n",
    "        r= len(nums) - 1\n",
    "        while l <= r:\n",
    "            mid = l + ((r - l) // 2)\n",
    "            if nums[i] == nums[mid]:\n",
    "                return nums[mid]\n",
    "            elif nums[i] <= nums[mid]:\n",
    "                r = mid - 1\n",
    "            else:\n",
    "                l = mid + 1\n",
    "    return nums[mid]\n",
    "nums = [1,3,4,2,2]\n",
    "print(findDuplicate(nums))"
   ]
  },
  {
   "cell_type": "code",
   "execution_count": 30,
   "id": "0f3ab323",
   "metadata": {},
   "outputs": [
    {
     "name": "stdout",
     "output_type": "stream",
     "text": [
      "[2]\n"
     ]
    }
   ],
   "source": [
    "#Question 5\n",
    "def intersectionOfTwoList(nums1, nums2):\n",
    "        if len(nums1) > len(nums2):\n",
    "            sorted_nums = sorted(nums1)\n",
    "            target_nums = nums2\n",
    "        else:\n",
    "            sorted_nums = sorted(nums2)\n",
    "            target_nums = nums1\n",
    "\n",
    "        def binary_search(target):\n",
    "            left = 0\n",
    "            right = len(sorted_nums) - 1\n",
    "            if left == right: return True\n",
    "            while left <= right:\n",
    "                mid = (left + right) // 2\n",
    "                if sorted_nums[mid] == target:\n",
    "                    return True\n",
    "                if sorted_nums[mid] < target:\n",
    "                    left = mid + 1\n",
    "                else:\n",
    "                    right = mid - 1 \n",
    "            return False\n",
    "            \n",
    "        intersection = []\n",
    "        for num in target_nums:\n",
    "            if binary_search(num):\n",
    "                intersection.append(num)\n",
    "\n",
    "        return list(set(intersection))\n",
    "nums1 = [1,2,2,1]\n",
    "nums2 = [2,2]\n",
    "print(intersectionOfTwoList(nums1, nums2))"
   ]
  },
  {
   "cell_type": "code",
   "execution_count": 31,
   "id": "765a125f",
   "metadata": {},
   "outputs": [
    {
     "name": "stdout",
     "output_type": "stream",
     "text": [
      "1\n"
     ]
    }
   ],
   "source": [
    "#Question 6\n",
    "def findMinFromArray(nums):\n",
    "    l= 0\n",
    "    r= len(nums)-1\n",
    "    while l < r:\n",
    "        m = l + (r-l) // 2\n",
    "        if nums[m] > nums[r]:\n",
    "            l = m +1\n",
    "        else: \n",
    "            r = m \n",
    "    return nums[l]\n",
    "nums = [3,4,5,1,2]\n",
    "print(findMinFromArray(nums))"
   ]
  },
  {
   "cell_type": "code",
   "execution_count": 32,
   "id": "725617d2",
   "metadata": {},
   "outputs": [
    {
     "name": "stdout",
     "output_type": "stream",
     "text": [
      "[3, 4]\n"
     ]
    }
   ],
   "source": [
    "#Question 7\n",
    "def searchRange(nums, target):\n",
    "        if target not in nums:\n",
    "            return [-1,-1]\n",
    "        l = 0\n",
    "        r = len(nums) - 1\n",
    "        while l<r:\n",
    "            mid = (l+r) // 2\n",
    "            if nums[mid] < target:\n",
    "                l = mid +1\n",
    "            elif nums[mid] == target:\n",
    "                r = mid \n",
    "            else:\n",
    "                r = mid - 1\n",
    "        \n",
    "        if nums[l] != target:\n",
    "            return [-1,-1]\n",
    "        else:\n",
    "            \n",
    "            end = start = l\n",
    "            r = len(nums) - 1\n",
    "            while l<=r:\n",
    "                \n",
    "                mid = (l+r) // 2\n",
    "                if nums[mid] == target:\n",
    "                    l = mid + 1\n",
    "                else:\n",
    "                    r = mid - 1\n",
    "            end = r        \n",
    "            return [start,end]\n",
    "nums = [5,7,7,8,8,10]\n",
    "target = 8\n",
    "print(searchRange(nums, target))"
   ]
  },
  {
   "cell_type": "code",
   "execution_count": 33,
   "id": "fd892000",
   "metadata": {},
   "outputs": [
    {
     "name": "stdout",
     "output_type": "stream",
     "text": [
      "[2, 2]\n"
     ]
    }
   ],
   "source": [
    "#Question 9\n",
    "def intersectionOfTwoList_all(nums1, nums2):\n",
    "        if len(nums1) > len(nums2):\n",
    "            sorted_nums = sorted(nums1)\n",
    "            target_nums = nums2\n",
    "        else:\n",
    "            sorted_nums = sorted(nums2)\n",
    "            target_nums = nums1\n",
    "\n",
    "        def binary_search(target):\n",
    "            left = 0\n",
    "            right = len(sorted_nums) - 1\n",
    "            if left == right: return True\n",
    "            while left <= right:\n",
    "                mid = (left + right) // 2\n",
    "                if sorted_nums[mid] == target:\n",
    "                    return True\n",
    "                if sorted_nums[mid] < target:\n",
    "                    left = mid + 1\n",
    "                else:\n",
    "                    right = mid - 1 \n",
    "            return False\n",
    "            \n",
    "        intersection = []\n",
    "        for num in target_nums:\n",
    "            if binary_search(num):\n",
    "                intersection.append(num)\n",
    "\n",
    "        return list(intersection)\n",
    "nums1 = [1,2,2,1]\n",
    "nums2 = [2,2]\n",
    "print(intersectionOfTwoList_all(nums1, nums2))"
   ]
  },
  {
   "cell_type": "code",
   "execution_count": null,
   "id": "1b8124cc",
   "metadata": {},
   "outputs": [],
   "source": []
  }
 ],
 "metadata": {
  "kernelspec": {
   "display_name": "Python 3 (ipykernel)",
   "language": "python",
   "name": "python3"
  },
  "language_info": {
   "codemirror_mode": {
    "name": "ipython",
    "version": 3
   },
   "file_extension": ".py",
   "mimetype": "text/x-python",
   "name": "python",
   "nbconvert_exporter": "python",
   "pygments_lexer": "ipython3",
   "version": "3.9.12"
  }
 },
 "nbformat": 4,
 "nbformat_minor": 5
}
