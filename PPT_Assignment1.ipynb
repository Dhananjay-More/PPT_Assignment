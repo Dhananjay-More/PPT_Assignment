{
 "cells": [
  {
   "cell_type": "code",
   "execution_count": 35,
   "id": "5d17e45f",
   "metadata": {},
   "outputs": [
    {
     "name": "stdout",
     "output_type": "stream",
     "text": [
      "Enter target:9\n",
      "[0, 1]\n"
     ]
    }
   ],
   "source": [
    "'''Q1. Given an array of integers nums and an integer target, return indices of the two numbers such that they add up to target.\n",
    "You may assume that each input would have exactly one solution, and you may not use the same element twice.\n",
    "\n",
    "You can return the answer in any order.\n",
    "\n",
    "**Example:**\n",
    "Input: nums = [2,7,11,15], target = 9\n",
    "Output0 [0,1]\n",
    "\n",
    "**Explanation:** Because nums[0] + nums[1] == 9, we return [0, 1]'''\n",
    "\n",
    "nums = [2,7,11,15]\n",
    "target=int(input(\"Enter target:\"))\n",
    "ans=list()\n",
    "for i in range(0,len(nums)-1):\n",
    "    for j in range(i+1,len(nums)):\n",
    "        if (nums[i] + nums[j] ) == target:\n",
    "            ans.append(i)\n",
    "            ans.append(j)\n",
    "            break\n",
    "if len(ans)!=0:\n",
    "    print(ans)\n",
    "else:\n",
    "    print(\"we can not reach target\")"
   ]
  },
  {
   "cell_type": "code",
   "execution_count": 37,
   "id": "4e14d3b2",
   "metadata": {},
   "outputs": [
    {
     "name": "stdout",
     "output_type": "stream",
     "text": [
      "Enter value to remove from array:3\n",
      "k=2 and remaning array=[2, 2]\n"
     ]
    }
   ],
   "source": [
    "'''\n",
    "💡 **Q2.** Given an integer array nums and an integer val, remove all occurrences of val in nums in-place. The order of the elements may be changed. Then return the number of elements in nums which are not equal to val.\n",
    "\n",
    "Consider the number of elements in nums which are not equal to val be k, to get accepted, you need to do the following things:\n",
    "\n",
    "- Change the array nums such that the first k elements of nums contain the elements which are not equal to val. The remaining elements of nums are not important as well as the size of nums.\n",
    "- Return k.\n",
    "\n",
    "**Example :**\n",
    "Input: nums = [3,2,2,3], val = 3\n",
    "Output: 2, nums = [2,2,_*,_*]\n",
    "\n",
    "**Explanation:** Your function should return k = 2, with the first two elements of nums being 2. It does not matter what you leave beyond the returned k (hence they are underscores)[\n",
    "\n",
    "'''\n",
    "\n",
    "def removeall(a,v):\n",
    "    for i in a:\n",
    "        if i==v:\n",
    "            a.remove(v)\n",
    "    return a\n",
    "\n",
    "nums=[3,2,2,3]\n",
    "val=int(input(\"Enter value to remove from array:\"))\n",
    "nums=removeall(nums,val)\n",
    "k=len(nums)\n",
    "print(f\"k={k} and remaning array={nums}\")"
   ]
  },
  {
   "cell_type": "code",
   "execution_count": 38,
   "id": "9d5554e6",
   "metadata": {},
   "outputs": [
    {
     "name": "stdout",
     "output_type": "stream",
     "text": [
      "Enter value to search in array:5\n",
      "5 element found at location=2\n"
     ]
    }
   ],
   "source": [
    "'''<aside>\n",
    "💡 **Q3.** Given a sorted array of distinct integers and a target value, return the index if the target is found. If not, return the index where it would be if it were inserted in order.\n",
    "\n",
    "You must write an algorithm with O(log n) runtime complexity.\n",
    "\n",
    "**Example 1:**\n",
    "Input: nums = [1,3,5,6], target = 5\n",
    "\n",
    "Output: 2\n",
    "\n",
    "</aside>'''\n",
    "\n",
    "def search_element(a,v):\n",
    "    flg=False\n",
    "    i=0\n",
    "    while a[i] <= v:\n",
    "        if a[i]==v:\n",
    "            flg=True\n",
    "            break\n",
    "        i+=1\n",
    "    return i,flg\n",
    "nums=[1,3,5,6]\n",
    "target=int(input(\"Enter value to search in array:\"))\n",
    "ans=search_element(nums,target)\n",
    "if ans[1]==True:\n",
    "    print(f\"{target} element found at location={ans[0]}\")\n",
    "else:\n",
    "    print(f\"{target} element not found in array but can be added at location={ans[0]}\")"
   ]
  },
  {
   "cell_type": "code",
   "execution_count": 21,
   "id": "99868cd8",
   "metadata": {},
   "outputs": [
    {
     "name": "stdout",
     "output_type": "stream",
     "text": [
      "[1, 2, 4]\n"
     ]
    }
   ],
   "source": [
    "'''<aside>\n",
    "💡 **Q4.** You are given a large integer represented as an integer array digits, where each digits[i] is the ith digit of the integer. The digits are ordered from most significant to least significant in left-to-right order. The large integer does not contain any leading 0's.\n",
    "\n",
    "Increment the large integer by one and return the resulting array of digits.\n",
    "\n",
    "**Example 1:**\n",
    "Input: digits = [1,2,3]\n",
    "Output: [1,2,4]\n",
    "\n",
    "**Explanation:** The array represents the integer 123.\n",
    "\n",
    "Incrementing by one gives 123 + 1 = 124.\n",
    "Thus, the result should be [1,2,4].\n",
    "\n",
    "</aside>'''\n",
    "\n",
    "digits = [1,2,3]\n",
    "new_digits=list()\n",
    "num=0\n",
    "ln=len(digits)\n",
    "i=0\n",
    "while ln > 0:\n",
    "    num=num + digits[i]*(10**(ln-1))\n",
    "    i+=1\n",
    "    ln-=1\n",
    "num+=1\n",
    "ln=len(str(num))\n",
    "while ln > 0:\n",
    "    temp= num%10\n",
    "    new_digits.append(temp)\n",
    "    num=int(num/10)\n",
    "    i+=1\n",
    "    ln-=1\n",
    "new_digits.reverse()\n",
    "print(new_digits)"
   ]
  },
  {
   "cell_type": "code",
   "execution_count": 24,
   "id": "b4d293bf",
   "metadata": {},
   "outputs": [
    {
     "name": "stdout",
     "output_type": "stream",
     "text": [
      "How many numbers in num1:3\n",
      "How many numbers in num2:3\n",
      "Enter number to be insert in num1:1\n",
      "Enter number to be insert in num1:2\n",
      "Enter number to be insert in num1:3\n",
      "Enter number to be insert in num2:2\n",
      "Enter number to be insert in num2:5\n",
      "Enter number to be insert in num2:6\n",
      "[1, 2, 2, 3, 5, 6]\n"
     ]
    }
   ],
   "source": [
    "'''Q5. You are given two integer arrays nums1 and nums2, sorted in non-decreasing order, and two integers m and n, \n",
    "representing the number of elements in nums1 and nums2 respectively.\n",
    "Merge nums1 and nums2 into a single array sorted in non-decreasing order.\n",
    "\n",
    "The final sorted array should not be returned by the function, but instead be stored inside the array nums1. \n",
    "To accommodate this, nums1 has a length of m + n, where the first m elements denote the elements that should be merged,\n",
    "and the last n elements are set to 0 and should be ignored. nums2 has a length of n.\n",
    "Example 1:\n",
    "Input: nums1 = [1,2,3,0,0,0], m = 3, nums2 = [2,5,6], n = 3\n",
    "Output: [1,2,2,3,5,6]\n",
    "'''\n",
    "\n",
    "def merge(a,b,m,n):\n",
    "    i=0\n",
    "    j=m\n",
    "    k=0\n",
    "    while k < n and i < m:\n",
    "        if a[i] > b[k]:\n",
    "            for l in range(m,i,-1):\n",
    "                a[l]=a[l-1]\n",
    "            a[i]=b[k]\n",
    "            k+=1\n",
    "            m+=1\n",
    "        else:\n",
    "            i+=1\n",
    "    while k < n:\n",
    "        a[m]=b[k]\n",
    "        k+=1\n",
    "        m+=1\n",
    "    return a\n",
    "\n",
    "\n",
    "num1=list()\n",
    "num2=list()\n",
    "m=int(input(\"How many numbers in num1:\"))\n",
    "n=int(input(\"How many numbers in num2:\"))\n",
    "for i in range(0,m+n):\n",
    "    if i<m:\n",
    "        num1.append(int(input(\"Enter number to be insert in num1:\")))\n",
    "    else:\n",
    "        num1.append(0)\n",
    "for i in range(0,n):\n",
    "    num2.append(int(input(\"Enter number to be insert in num2:\")))\n",
    "num1=merge(num1,num2,m,n)\n",
    "print(num1)"
   ]
  },
  {
   "cell_type": "code",
   "execution_count": 28,
   "id": "5c79a4b7",
   "metadata": {},
   "outputs": [
    {
     "name": "stdout",
     "output_type": "stream",
     "text": [
      "False\n"
     ]
    }
   ],
   "source": [
    "'''Q6. Given an integer array nums, return true if any value appears at least twice in the array, \n",
    "and return false if every element is distinct.\n",
    "**Example 1:**\n",
    "Input: nums = [1,2,3,1]\n",
    "\n",
    "Output: true'''\n",
    "def multi_search(a):\n",
    "    for i in range(len(a)):\n",
    "        if a.count(a[i]) >=2:\n",
    "            return True\n",
    "    return False\n",
    "l=[1, 2, 3, 5, 6]\n",
    "print(multi_search(l))"
   ]
  },
  {
   "cell_type": "code",
   "execution_count": 39,
   "id": "7e978c02",
   "metadata": {},
   "outputs": [
    {
     "name": "stdout",
     "output_type": "stream",
     "text": [
      "[1, 3, 12, 0, 0]\n"
     ]
    }
   ],
   "source": [
    "'''Q7. Given an integer array nums, move all 0's to the end of it while maintaining the relative order of \n",
    "the nonzero elements.\n",
    "Note that you must do this in-place without making a copy of the array.\n",
    "\n",
    "**Example 1:**\n",
    "Input: nums = [0,1,0,3,12]\n",
    "Output: [1,3,12,0,0]\n",
    "'''\n",
    "def removeall(a,v):\n",
    "    for i in a:\n",
    "        if i==v:\n",
    "            a.remove(v)\n",
    "    return a\n",
    "nums = [0,1,0,3,12]\n",
    "cnt=nums.count(0)\n",
    "num=removeall(nums,0)\n",
    "for i in range(cnt):\n",
    "    num.append(0)\n",
    "print(nums)"
   ]
  },
  {
   "cell_type": "code",
   "execution_count": 40,
   "id": "4be95d69",
   "metadata": {},
   "outputs": [
    {
     "name": "stdout",
     "output_type": "stream",
     "text": [
      "[2, 3]\n"
     ]
    }
   ],
   "source": [
    "'''Q8. You have a set of integers s, which originally contains all the numbers from 1 to n. Unfortunately, \n",
    "due to some error, one of the numbers in s got duplicated to another number in the set, which results in \n",
    "repetition of one number and loss of another number.\n",
    "You are given an integer array nums representing the data status of this set after the error.\n",
    "\n",
    "Find the number that occurs twice and the number that is missing and return them in the form of an array.\n",
    "Example 1:\n",
    "Input: nums = [1,2,2,4]\n",
    "Output: [2,3]\n",
    "'''\n",
    "\n",
    "def multi_search(a):\n",
    "    for i in range(len(a)):\n",
    "        if a.count(a[i]) >=2:\n",
    "            return a[i]\n",
    "    return False\n",
    "nums = [1,2,2,4]\n",
    "ans=list()\n",
    "nums.sort()\n",
    "mul_val=multi_search(nums)\n",
    "ans.append(mul_val)\n",
    "if mul_val+1 in nums:\n",
    "    ans.append(mul_val-1)\n",
    "else:\n",
    "    ans.append(mul_val+1)\n",
    "print(ans)"
   ]
  },
  {
   "cell_type": "code",
   "execution_count": null,
   "id": "45d77399",
   "metadata": {},
   "outputs": [],
   "source": []
  }
 ],
 "metadata": {
  "kernelspec": {
   "display_name": "Python 3 (ipykernel)",
   "language": "python",
   "name": "python3"
  },
  "language_info": {
   "codemirror_mode": {
    "name": "ipython",
    "version": 3
   },
   "file_extension": ".py",
   "mimetype": "text/x-python",
   "name": "python",
   "nbconvert_exporter": "python",
   "pygments_lexer": "ipython3",
   "version": "3.9.12"
  }
 },
 "nbformat": 4,
 "nbformat_minor": 5
}
