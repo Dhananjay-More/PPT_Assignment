{
 "cells": [
  {
   "cell_type": "code",
   "execution_count": 4,
   "id": "235525d8",
   "metadata": {},
   "outputs": [
    {
     "name": "stdout",
     "output_type": "stream",
     "text": [
      "Enter Number:3\n",
      "False\n"
     ]
    }
   ],
   "source": [
    "#Question 1\n",
    "def powerOfTwo(n):\n",
    "    if n <= 0:\n",
    "        return False\n",
    "    if n==1:\n",
    "        return True\n",
    "    if n%2 != 0:\n",
    "        return False\n",
    "    return powerOfTwo(n/2)\n",
    "n=int(input(\"Enter Number:\"))\n",
    "print(powerOfTwo(n))"
   ]
  },
  {
   "cell_type": "code",
   "execution_count": 5,
   "id": "ae8a2f8c",
   "metadata": {},
   "outputs": [
    {
     "name": "stdout",
     "output_type": "stream",
     "text": [
      "Enter Number:5\n",
      "15\n"
     ]
    }
   ],
   "source": [
    "#Question 2\n",
    "def sumOfNatural(n):\n",
    "    if n==1:\n",
    "        return 1\n",
    "    else:\n",
    "        return n + sumOfNatural(n-1)\n",
    "n=int(input(\"Enter Number:\"))\n",
    "print(sumOfNatural(n))"
   ]
  },
  {
   "cell_type": "code",
   "execution_count": 7,
   "id": "e684eb91",
   "metadata": {},
   "outputs": [
    {
     "name": "stdout",
     "output_type": "stream",
     "text": [
      "Enter Number:4\n",
      "24\n"
     ]
    }
   ],
   "source": [
    "#Question 3\n",
    "def factorialOfN(n):\n",
    "    if n==1:\n",
    "        return 1\n",
    "    else:\n",
    "        return n * factorialOfN(n-1)\n",
    "n=int(input(\"Enter Number:\"))\n",
    "print(factorialOfN(n))"
   ]
  },
  {
   "cell_type": "code",
   "execution_count": 9,
   "id": "2d03e049",
   "metadata": {},
   "outputs": [
    {
     "name": "stdout",
     "output_type": "stream",
     "text": [
      "Enter Number:2\n",
      "Enter Power:5\n",
      "32\n"
     ]
    }
   ],
   "source": [
    "#Question 4\n",
    "def numberToPower(n,p):\n",
    "    if p==1:\n",
    "        return n\n",
    "    return n * numberToPower(n,p-1)\n",
    "n=int(input(\"Enter Number:\"))\n",
    "p=int(input(\"Enter Power:\"))\n",
    "print(numberToPower(n,p))"
   ]
  },
  {
   "cell_type": "code",
   "execution_count": 19,
   "id": "0f4c5f0a",
   "metadata": {},
   "outputs": [
    {
     "name": "stdout",
     "output_type": "stream",
     "text": [
      "45\n"
     ]
    }
   ],
   "source": [
    "#Question 5\n",
    "def maxFromArr(a,m,i):\n",
    "    if a[i] > m:\n",
    "        m=a[i]\n",
    "    if i==len(a)-1:\n",
    "        return m\n",
    "    return maxFromArr(a,m,i+1)\n",
    "arr = [1, 4, 45, 6, 10, -8]\n",
    "print(maxFromArr(arr,arr[0],0))"
   ]
  },
  {
   "cell_type": "code",
   "execution_count": 17,
   "id": "73da3c1d",
   "metadata": {},
   "outputs": [
    {
     "name": "stdout",
     "output_type": "stream",
     "text": [
      "Enter First Term:5\n",
      "Enter Diffrence:2\n",
      "Enter Number n:10\n",
      "23\n"
     ]
    }
   ],
   "source": [
    "#Question 6\n",
    "def nthTermOfSeries(a,d,n):\n",
    "    if n==1:\n",
    "        return a\n",
    "    return nthTermOfSeries(a+d,d,n-1)\n",
    "a=int(input(\"Enter First Term:\"))\n",
    "d=int(input(\"Enter Diffrence:\"))\n",
    "n=int(input(\"Enter Number n:\"))\n",
    "print(nthTermOfSeries(a,d,n))"
   ]
  },
  {
   "cell_type": "code",
   "execution_count": 21,
   "id": "95dd4664",
   "metadata": {},
   "outputs": [
    {
     "name": "stdout",
     "output_type": "stream",
     "text": [
      "ABC\n",
      "ACB\n",
      "BAC\n",
      "BCA\n",
      "CBA\n",
      "CAB\n"
     ]
    }
   ],
   "source": [
    "#Question 7\n",
    "def toString(List):\n",
    "    return ''.join(List)\n",
    "def permuteOfString(a, l, r):\n",
    "    if l == r:\n",
    "        print (toString(a))\n",
    "    else:\n",
    "        for i in range(l, r + 1):\n",
    "            a[l], a[i] = a[i], a[l]\n",
    "            permuteOfString(a, l + 1, r)\n",
    "            a[l], a[i] = a[i], a[l]\n",
    "str1 = \"ABC\"\n",
    "n = len(string)\n",
    "a = list(string)\n",
    "permuteOfString(a, 0, n-1)"
   ]
  },
  {
   "cell_type": "code",
   "execution_count": 29,
   "id": "9df80ad4",
   "metadata": {},
   "outputs": [
    {
     "name": "stdout",
     "output_type": "stream",
     "text": [
      "18\n"
     ]
    }
   ],
   "source": [
    "#Question 8\n",
    "def pro_all_arr_ele(a,n):\n",
    "    if n==0:\n",
    "        return a[n]\n",
    "    else:\n",
    "        return a[n] * pro_all_arr_ele(a,n-1)\n",
    "arr= [1,6,3]\n",
    "n=len(arr)-1\n",
    "print(pro_all_arr_ele(arr,n))"
   ]
  },
  {
   "cell_type": "code",
   "execution_count": null,
   "id": "20d1b7b4",
   "metadata": {},
   "outputs": [],
   "source": []
  }
 ],
 "metadata": {
  "kernelspec": {
   "display_name": "Python 3 (ipykernel)",
   "language": "python",
   "name": "python3"
  },
  "language_info": {
   "codemirror_mode": {
    "name": "ipython",
    "version": 3
   },
   "file_extension": ".py",
   "mimetype": "text/x-python",
   "name": "python",
   "nbconvert_exporter": "python",
   "pygments_lexer": "ipython3",
   "version": "3.9.12"
  }
 },
 "nbformat": 4,
 "nbformat_minor": 5
}
