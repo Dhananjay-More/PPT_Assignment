{
 "cells": [
  {
   "cell_type": "code",
   "execution_count": 1,
   "id": "5666a120",
   "metadata": {},
   "outputs": [
    {
     "name": "stdout",
     "output_type": "stream",
     "text": [
      "[[1 2]\n",
      " [3 4]]\n"
     ]
    }
   ],
   "source": [
    "#Question 1\n",
    "import numpy as np\n",
    "def onedToTwod(a,m,n):\n",
    "    a=np.array(a)\n",
    "    if a.size==m*n:\n",
    "        a=a.reshape(m,n)\n",
    "        return a\n",
    "    else:\n",
    "        print(\"can not convert 1D array two 2D Array\")\n",
    "original = [1,2,3,4]\n",
    "m = 2\n",
    "n = 2\n",
    "print(onedToTwod(original,m,n))"
   ]
  },
  {
   "cell_type": "code",
   "execution_count": 2,
   "id": "cfb91f3a",
   "metadata": {},
   "outputs": [
    {
     "name": "stdout",
     "output_type": "stream",
     "text": [
      "Enter Value of N:5\n",
      "2\n"
     ]
    }
   ],
   "source": [
    "#Question 2\n",
    "def arrangeCoins(n):\n",
    "    left, right = 1, n\n",
    "    while left <= right:\n",
    "        mid = left + (right - left) // 2\n",
    "        coins = (mid * (mid + 1)) // 2\n",
    "        if coins <= n:\n",
    "            left = mid + 1\n",
    "        else:\n",
    "            right = mid - 1\n",
    "    return right\n",
    "n = int(input(\"Enter Value of N:\"))\n",
    "print(arrangeCoins(n))"
   ]
  },
  {
   "cell_type": "code",
   "execution_count": 3,
   "id": "99b31669",
   "metadata": {},
   "outputs": [
    {
     "name": "stdout",
     "output_type": "stream",
     "text": [
      "[  0   1   9  16 100]\n"
     ]
    }
   ],
   "source": [
    "#Question 3\n",
    "import numpy as np\n",
    "def arrsqr(a):\n",
    "    a=np.array(a)\n",
    "    return np.sort(a*a)\n",
    "nums = [-4,-1,0,3,10]\n",
    "print(arrsqr(nums))"
   ]
  },
  {
   "cell_type": "code",
   "execution_count": 4,
   "id": "6b14161a",
   "metadata": {},
   "outputs": [
    {
     "name": "stdout",
     "output_type": "stream",
     "text": [
      "[[1, 3], [4, 6]]\n"
     ]
    }
   ],
   "source": [
    "#Question 4\n",
    "def findDifference(nums1, nums2):\n",
    "    set1=set(nums1)\n",
    "    set2=set(nums2)\n",
    "    res=[[],[]]\n",
    "    for i in set1:\n",
    "        if i not in set2:\n",
    "            res[0].append(i)\n",
    "    for i in set2:\n",
    "        if i not in set1:\n",
    "            res[1].append(i)\n",
    "    return res\n",
    "nums1 = [1,2,3]\n",
    "nums2 = [2,4,6]\n",
    "print(findDifference(nums1, nums2))"
   ]
  },
  {
   "cell_type": "code",
   "execution_count": 5,
   "id": "b0685e35",
   "metadata": {},
   "outputs": [
    {
     "name": "stdout",
     "output_type": "stream",
     "text": [
      "2\n"
     ]
    }
   ],
   "source": [
    "#Question 5\n",
    "def findTheDistanceValue(arr1, arr2, d):\n",
    "    arr2.sort()\n",
    "    distance = len(arr1)\n",
    "    for num in arr1:\n",
    "        start = 0\n",
    "        end = len(arr2) - 1\n",
    "        while start <= end:\n",
    "            mid = (start+end)//2\n",
    "            if abs(num- arr2[mid]) <= d:\n",
    "                distance -= 1\n",
    "                break\n",
    "            elif arr2[mid] > num :\n",
    "                end = mid-1\n",
    "            elif arr2[mid] < num :\n",
    "                start = mid+1\n",
    "    return distance\n",
    "arr1 = [4,5,8]\n",
    "arr2 = [10,9,1,8]\n",
    "d = 2\n",
    "print(findTheDistanceValue(arr1, arr2, d))"
   ]
  },
  {
   "cell_type": "code",
   "execution_count": 10,
   "id": "0a072ea2",
   "metadata": {},
   "outputs": [
    {
     "name": "stdout",
     "output_type": "stream",
     "text": [
      "[2, 3]\n"
     ]
    }
   ],
   "source": [
    "#Question 6\n",
    "def twiceEle(nums):\n",
    "    ans=[]\n",
    "    for i in nums:\n",
    "        if nums.count(i)==2:\n",
    "            if i not in ans:\n",
    "                ans.append(i)\n",
    "    ans.sort()\n",
    "    return ans\n",
    "nums = [4,3,2,7,8,2,3,1]\n",
    "print(twiceEle(nums))"
   ]
  },
  {
   "cell_type": "code",
   "execution_count": 7,
   "id": "3589348a",
   "metadata": {},
   "outputs": [
    {
     "name": "stdout",
     "output_type": "stream",
     "text": [
      "1\n"
     ]
    }
   ],
   "source": [
    "#Question 7\n",
    "def findMin(nums):\n",
    "    left = 0\n",
    "    right = len(nums) - 1\n",
    "    while left < right:\n",
    "        mid = left + (right - left) // 2\n",
    "        if nums[mid] > nums[right]:\n",
    "            left = mid + 1\n",
    "        else:\n",
    "            right = mid\n",
    "    return nums[left]\n",
    "nums = [3,4,5,1,2]\n",
    "print(findMin(nums))"
   ]
  },
  {
   "cell_type": "code",
   "execution_count": 8,
   "id": "04d1d588",
   "metadata": {},
   "outputs": [
    {
     "name": "stdout",
     "output_type": "stream",
     "text": [
      "[1, 3, 4]\n"
     ]
    }
   ],
   "source": [
    "#Question 8\n",
    "from collections import Counter\n",
    "def findOriginalArray(nums):\n",
    "    ans = [] \n",
    "    vacans = [] \n",
    "    if len(nums)%2 != 0 :\n",
    "        return ans\n",
    "    nums.sort()\n",
    "    temp = Counter(nums)\n",
    "    for i in nums:    \n",
    "        if temp[i] == 0:  \n",
    "            continue\n",
    "        else:\n",
    "            if temp.get(2*i,0) >= 1:\n",
    "                ans.append(i)\n",
    "                temp[2*i] -= 1\n",
    "                temp[i] -= 1\n",
    "            else:        \n",
    "                return vacans\n",
    "    return ans\n",
    "changed = [1,3,4,2,6,8]\n",
    "print(findOriginalArray(changed))"
   ]
  },
  {
   "cell_type": "code",
   "execution_count": null,
   "id": "328f95ae",
   "metadata": {},
   "outputs": [],
   "source": []
  }
 ],
 "metadata": {
  "kernelspec": {
   "display_name": "Python 3 (ipykernel)",
   "language": "python",
   "name": "python3"
  },
  "language_info": {
   "codemirror_mode": {
    "name": "ipython",
    "version": 3
   },
   "file_extension": ".py",
   "mimetype": "text/x-python",
   "name": "python",
   "nbconvert_exporter": "python",
   "pygments_lexer": "ipython3",
   "version": "3.9.12"
  }
 },
 "nbformat": 4,
 "nbformat_minor": 5
}
