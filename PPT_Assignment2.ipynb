{
 "cells": [
  {
   "cell_type": "code",
   "execution_count": null,
   "id": "65ca35c6",
   "metadata": {},
   "outputs": [],
   "source": [
    "Q1"
   ]
  },
  {
   "cell_type": "code",
   "execution_count": 5,
   "id": "8ec66dff",
   "metadata": {},
   "outputs": [
    {
     "name": "stdout",
     "output_type": "stream",
     "text": [
      "Alice can eat 3 diffrent candys\n"
     ]
    }
   ],
   "source": [
    "'''Question 2\n",
    "Alice has n candies, where the ith candy is of type candyType[i]. Alice noticed that she started to gain weight, \n",
    "so she visited a doctor. '''\n",
    "candyType = [1,1,2,2,3,3]\n",
    "ec=list()\n",
    "for i in range(len(candyType)):\n",
    "    if i%2==0 and (candyType[i] not in ec):\n",
    "        ec.append(candyType[i])\n",
    "print(f\"Alice can eat {len(ec)} diffrent candys\")\n",
    "        "
   ]
  },
  {
   "cell_type": "code",
   "execution_count": null,
   "id": "a9271abb",
   "metadata": {},
   "outputs": [],
   "source": [
    "Q3"
   ]
  },
  {
   "cell_type": "code",
   "execution_count": null,
   "id": "665177f3",
   "metadata": {},
   "outputs": [],
   "source": [
    "'''Question 4\n",
    "You have a long flowerbed in which some of the plots are planted, and some are not.\n",
    "However, flowers cannot be planted in adjacent plots.\n",
    "Given an integer array flowerbed containing 0's and 1's, where 0 means empty and 1 means \n",
    "not empty, and an integer n, return true if n new flowers can be planted in the flowerbed without \n",
    "violating the no-adjacent-flowers rule and false otherwise.\n",
    "'''\n",
    "def can_plant(a,np):\n",
    "    cnt=0\n",
    "    op=0\n",
    "    cnz=0\n",
    "    for i in range(len(a)-2):\n",
    "        if a[i]==a[i+1]==a[i+2]==0:\n",
    "            cnt+=1\n",
    "    cp=int(cnt/2)+1\n",
    "    if cp>=np:\n",
    "        return True\n",
    "    else:\n",
    "        return False\n",
    "\n",
    "flowerbed = [1,0,0,0,1]\n",
    "n=int(input(\"Enter number of flowers can be plant:\"))\n",
    "ans=can_plant(flowerbed,n)\n",
    "print(ans)"
   ]
  },
  {
   "cell_type": "code",
   "execution_count": 8,
   "id": "c239ec2a",
   "metadata": {},
   "outputs": [
    {
     "name": "stdout",
     "output_type": "stream",
     "text": [
      "maximum product=120\n"
     ]
    }
   ],
   "source": [
    "'''Question 5\n",
    "Given an integer array nums, find three numbers whose product is maximum and return the maximum product.\n",
    "\n",
    "Example 1:\n",
    "Input: nums = [1,2,3]\n",
    "Output: 6'''\n",
    "nums=[1,2,3,4,5,6]\n",
    "while len(nums) !=3:\n",
    "    nums.remove(min(nums))\n",
    "max_prod=1\n",
    "for i in nums:\n",
    "    max_prod*=i\n",
    "print(f\"maximum product={max_prod}\")"
   ]
  },
  {
   "cell_type": "code",
   "execution_count": 73,
   "id": "0a831e62",
   "metadata": {},
   "outputs": [
    {
     "name": "stdout",
     "output_type": "stream",
     "text": [
      "4\n"
     ]
    }
   ],
   "source": [
    "'''Question 6\n",
    "Given an array of integers nums which is sorted in ascending order, and an integer target,\n",
    "write a function to search target in nums. If target exists, then return its index. Otherwise,\n",
    "return -1.'''\n",
    "def search(nums,target):\n",
    "    cnt=0\n",
    "    low=0\n",
    "    flag=True\n",
    "    high=len(nums)\n",
    "    mid=int((low+high)/2)\n",
    "    while flag==True and cnt <= (len(nums)/2):\n",
    "        if nums[mid] == target:\n",
    "            flag=False\n",
    "            return mid\n",
    "        else:\n",
    "            if nums[mid] < target:\n",
    "                mid=int((mid+high)/2)\n",
    "                cnt+=1\n",
    "            else:\n",
    "                mid=int((mid+low)/2)\n",
    "                cnt+=1\n",
    "    if flag==True:\n",
    "        return -1\n",
    "nums = [-1,0,3,5,9,12]\n",
    "target=9\n",
    "ans=search(nums,target)\n",
    "print(ans)"
   ]
  },
  {
   "cell_type": "code",
   "execution_count": 34,
   "id": "081e6be9",
   "metadata": {},
   "outputs": [
    {
     "name": "stdout",
     "output_type": "stream",
     "text": [
      "True\n"
     ]
    }
   ],
   "source": [
    "'''Question 7\n",
    "An array is monotonic if it is either monotone increasing or monotone decreasing.\n",
    "\n",
    "An array nums is monotone increasing if for all i <= j, nums[i] <= nums[j]. An array nums is\n",
    "monotone decreasing if for all i <= j, nums[i] >= nums[j].\n",
    "\n",
    "Given an integer array nums, return true if the given array is monotonic, or false otherwise.\n",
    "\n",
    "Example 1:\n",
    "Input: nums = [1,2,2,3]\n",
    "Output: true'''\n",
    "def is_monotonic(a):\n",
    "    monoi=1\n",
    "    monod=1\n",
    "    for i in range(len(a)-1):\n",
    "        if a[i]<=a[i+1]:\n",
    "            monoi*=1\n",
    "        else:\n",
    "            monoi*=0\n",
    "    for i in range(len(a)-1):\n",
    "        if a[i]>=a[i+1]:\n",
    "            monod*=1\n",
    "        else:\n",
    "            monod*=0\n",
    "    if monoi==True or monod==True:\n",
    "        return True\n",
    "    else:\n",
    "        return False\n",
    "nums = [1,2,2,3,4]\n",
    "print(is_monotonic(nums))"
   ]
  },
  {
   "cell_type": "code",
   "execution_count": null,
   "id": "8d4f242d",
   "metadata": {},
   "outputs": [],
   "source": [
    "Q8"
   ]
  }
 ],
 "metadata": {
  "kernelspec": {
   "display_name": "Python 3 (ipykernel)",
   "language": "python",
   "name": "python3"
  },
  "language_info": {
   "codemirror_mode": {
    "name": "ipython",
    "version": 3
   },
   "file_extension": ".py",
   "mimetype": "text/x-python",
   "name": "python",
   "nbconvert_exporter": "python",
   "pygments_lexer": "ipython3",
   "version": "3.9.12"
  }
 },
 "nbformat": 4,
 "nbformat_minor": 5
}
