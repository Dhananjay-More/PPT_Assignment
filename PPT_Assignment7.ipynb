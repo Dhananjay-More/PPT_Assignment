{
 "cells": [
  {
   "cell_type": "code",
   "execution_count": 6,
   "id": "22952a57",
   "metadata": {},
   "outputs": [
    {
     "name": "stdout",
     "output_type": "stream",
     "text": [
      "True\n"
     ]
    }
   ],
   "source": [
    "#Question 1\n",
    "def strisomorphic(s, t):\n",
    "    l1 = []\n",
    "    l2 = []\n",
    "    for i in s:\n",
    "        l1.append(s.index(i))\n",
    "    for i in t:\n",
    "        l2.append(t.index(i))\n",
    "    if l1 == l2:\n",
    "        return True\n",
    "    return False\n",
    "s = \"egg\"\n",
    "t = \"add\"\n",
    "print(strisomorphic(s,t))"
   ]
  },
  {
   "cell_type": "code",
   "execution_count": 11,
   "id": "d54fd829",
   "metadata": {},
   "outputs": [
    {
     "name": "stdout",
     "output_type": "stream",
     "text": [
      "True\n"
     ]
    }
   ],
   "source": [
    "#Question 2\n",
    "def numStrobogrammatic(num):\n",
    "    maps = {(\"0\", \"0\"), (\"1\", \"1\"), (\"6\", \"9\"), (\"8\", \"8\"), (\"9\", \"6\")}\n",
    "    i=0\n",
    "    j=len(num) - 1\n",
    "    while i <= j:\n",
    "        if (num[i], num[j]) not in maps:\n",
    "            return False\n",
    "        i += 1\n",
    "        j -= 1\n",
    "    return True\n",
    "num = \"69\"\n",
    "print(numStrobogrammatic(num))"
   ]
  },
  {
   "cell_type": "code",
   "execution_count": 12,
   "id": "06692d3a",
   "metadata": {},
   "outputs": [
    {
     "name": "stdout",
     "output_type": "stream",
     "text": [
      "134\n"
     ]
    }
   ],
   "source": [
    "#Question 3\n",
    "def addStrings(num1, num2):\n",
    "    num1 = num1[::-1]\n",
    "    num2 = num2[::-1]\n",
    "    if len(num1) < len(num2):\n",
    "        num1 += '0' * (len(num2) - len(num1))\n",
    "    else:\n",
    "        num2 += '0' * (len(num1) - len(num2))\n",
    "    result = ''\n",
    "    carry = 0\n",
    "    for i in range(len(num1)):\n",
    "        digit_sum = int(num1[i]) + int(num2[i]) + carry\n",
    "        carry = digit_sum // 10\n",
    "        result += str(digit_sum % 10)\n",
    "    if carry > 0:\n",
    "        result += str(carry)\n",
    "    return result[::-1]\n",
    "num1 = \"11\"\n",
    "num2 = \"123\"\n",
    "print(addStrings(num1, num2))"
   ]
  },
  {
   "cell_type": "code",
   "execution_count": 28,
   "id": "de3ae41f",
   "metadata": {},
   "outputs": [
    {
     "name": "stdout",
     "output_type": "stream",
     "text": [
      " s'teL ekat edoCteeL tsetnoc\n"
     ]
    }
   ],
   "source": [
    "#Question 4\n",
    "def wordrev(s):\n",
    "    l=s.split()\n",
    "    nstr=\"\"\n",
    "    for i in range(len(l)):\n",
    "        l[i]=l[i][::-1]\n",
    "        nstr=nstr+\" \"+l[i]\n",
    "    return nstr\n",
    "s = \"Let's take LeetCode contest\"\n",
    "print(wordrev(s))"
   ]
  },
  {
   "cell_type": "code",
   "execution_count": 45,
   "id": "7b66ea0e",
   "metadata": {},
   "outputs": [
    {
     "name": "stdout",
     "output_type": "stream",
     "text": [
      "bacdfeg\n"
     ]
    }
   ],
   "source": [
    "#Question 5\n",
    "def reverse_the_first_k_char(s,k):\n",
    "    l=list()\n",
    "    nstr=\"\"\n",
    "    for i in range(0, len(s), k):\n",
    "        l.append(s[i:i + k]) \n",
    "    for i in range(0,len(l),2):\n",
    "        l[i]=l[i][::-1]\n",
    "    for i in l:\n",
    "        nstr+=i\n",
    "    return nstr\n",
    "s = \"abcdefg\"\n",
    "k = 2\n",
    "print(reverse_the_first_k_char(s,k))"
   ]
  },
  {
   "cell_type": "code",
   "execution_count": 47,
   "id": "ece4f60b",
   "metadata": {},
   "outputs": [
    {
     "name": "stdout",
     "output_type": "stream",
     "text": [
      "True\n"
     ]
    }
   ],
   "source": [
    "#Question 6\n",
    "def stringshifts(a,goal):\n",
    "    if len(a) != len(goal):\n",
    "        return False\n",
    "    if a in goal+goal:\n",
    "        return True\n",
    "    return False \n",
    "s = \"abcde\"\n",
    "goal = \"cdeab\"\n",
    "print(stringshifts(s,goal))"
   ]
  },
  {
   "cell_type": "code",
   "execution_count": 59,
   "id": "5c47959e",
   "metadata": {},
   "outputs": [
    {
     "name": "stdout",
     "output_type": "stream",
     "text": [
      "True\n"
     ]
    }
   ],
   "source": [
    "#Question 7\n",
    "def text_editors_typed(s,t):\n",
    "    l1=s.split(\"#\")\n",
    "    l2=t.split(\"#\")\n",
    "    str1=\"\"\n",
    "    str2=\"\"\n",
    "    for i in range(len(l1)-1):\n",
    "        str1+=l1[i][:len(l1[i])-1]\n",
    "        str2+=l2[i][:len(l2[i])-1]\n",
    "    str1+=l1[len(l1)-1]\n",
    "    str2+=l2[len(l2)-1]\n",
    "    if str1==str2:\n",
    "        return True\n",
    "    return False\n",
    "\n",
    "s = \"ab#c\"\n",
    "t = \"ad#c\"\n",
    "print(text_editors_typed(s,t))"
   ]
  },
  {
   "cell_type": "code",
   "execution_count": 62,
   "id": "90f1da81",
   "metadata": {},
   "outputs": [
    {
     "name": "stdout",
     "output_type": "stream",
     "text": [
      "True\n"
     ]
    }
   ],
   "source": [
    "#Question 8\n",
    "def straightLine(points):\n",
    "    n = len(points)\n",
    "    x1, y1 = points[0]\n",
    "    x2, y2 = points[1]\n",
    "    for i in range(2, n):\n",
    "        x, y = points[i]\n",
    "        if (y - y1) * (x - x2) != (y - y2) * (x - x1):\n",
    "            return False\n",
    "    return True\n",
    "coordinates = [[1,2],[2,3],[3,4],[4,5],[5,6],[6,7]]\n",
    "print(straightLine(coordinates))"
   ]
  },
  {
   "cell_type": "code",
   "execution_count": null,
   "id": "c2c1cfa7",
   "metadata": {},
   "outputs": [],
   "source": []
  }
 ],
 "metadata": {
  "kernelspec": {
   "display_name": "Python 3 (ipykernel)",
   "language": "python",
   "name": "python3"
  },
  "language_info": {
   "codemirror_mode": {
    "name": "ipython",
    "version": 3
   },
   "file_extension": ".py",
   "mimetype": "text/x-python",
   "name": "python",
   "nbconvert_exporter": "python",
   "pygments_lexer": "ipython3",
   "version": "3.9.12"
  }
 },
 "nbformat": 4,
 "nbformat_minor": 5
}
